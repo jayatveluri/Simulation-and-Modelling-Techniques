{
 "cells": [
  {
   "cell_type": "markdown",
   "metadata": {},
   "source": [
    "# Data 604 Final Project Simulation of a Trauma Registration Model"
   ]
  },
  {
   "cell_type": "markdown",
   "metadata": {},
   "source": [
    "## Problem And Significance     "
   ]
  },
  {
   "cell_type": "markdown",
   "metadata": {},
   "source": [
    "### Problem:\n",
    "Every Emergency Medical Care/Trauma Centers receive a number of Trauma patients everyday. \n",
    "They are registed and Admitted to Emergency with different Trauma levels (say 3-Highest/Severe, 2-Moderate, 1-Low)\n",
    "So the patients are queued in to get admitted into emergency.Certain Number of Hospital staff is involved in this process.\n",
    "The problem here is the waiting time to get into admitted to Emertgency based on the Trauma Levels.\n"
   ]
  },
  {
   "cell_type": "markdown",
   "metadata": {},
   "source": [
    "### Significance:\n",
    "I am planning to Simulate a Model using SimPy to address the above problem(Trauma Registration).\n",
    "We are simulating a model for the whole process and the out come is to streamline the Trauma Registration Process, so that the waiting time is minimal for Trauma patients."
   ]
  }
 ],
 "metadata": {
  "kernelspec": {
   "display_name": "Python 3",
   "language": "python",
   "name": "python3"
  },
  "language_info": {
   "codemirror_mode": {
    "name": "ipython",
    "version": 3
   },
   "file_extension": ".py",
   "mimetype": "text/x-python",
   "name": "python",
   "nbconvert_exporter": "python",
   "pygments_lexer": "ipython3",
   "version": "3.7.0"
  }
 },
 "nbformat": 4,
 "nbformat_minor": 2
}
