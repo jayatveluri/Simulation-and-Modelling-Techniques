{
 "cells": [
  {
   "cell_type": "markdown",
   "metadata": {},
   "source": [
    "# Trauma Registration Simulation Model"
   ]
  },
  {
   "cell_type": "code",
   "execution_count": 15,
   "metadata": {},
   "outputs": [],
   "source": [
    "import simpy\n",
    "import random\n",
    "import statistics\n",
    "import matplotlib.pyplot as plt\n",
    "import numpy as np\n",
    "import scipy.stats as stats"
   ]
  },
  {
   "cell_type": "code",
   "execution_count": 16,
   "metadata": {},
   "outputs": [],
   "source": [
    "wait_times = []"
   ]
  },
  {
   "cell_type": "code",
   "execution_count": 17,
   "metadata": {},
   "outputs": [],
   "source": [
    "# Building the blue print for the system that bis Trauma Center\n",
    "# The parts of a Trauma center are front desk patient nregistrars(num_registrars), Trauma Specialists who decides the trauma level(trauma_nurses) and icu porters who take patients to ICU immediately\n",
    "# Based on the historic data from the hospital we are taking the randomn wait time to get registered at the fromnt desk is between 1 to 3 inutes\n",
    "# The Random wait time to get evaluated by a Trauma nurse is 1 to 4 minutes.\n",
    "# The average wait time to be taken by hospital staff(icuporters) is 1 to 3 minutes."
   ]
  },
  {
   "cell_type": "code",
   "execution_count": 18,
   "metadata": {},
   "outputs": [],
   "source": [
    "class TraumaCenter(object):\n",
    "    def __init__(self, env, num_registrars, num_traumanurses, num_icuporters):\n",
    "        self.env = env\n",
    "        self.registrar = simpy.Resource(env, num_registrars)\n",
    "        self.traumanurse = simpy.Resource(env, num_traumanurses)\n",
    "        self.icuporter = simpy.Resource(env, num_icuporters)\n",
    "    def get_registered(self, patient):\n",
    "        yield self.env.timeout(random.randint(1, 3))\n",
    "\n",
    "    def check_traumanurse(self, patient):\n",
    "        yield self.env.timeout(random.randint(1, 4))\n",
    "\n",
    "    def get_icuporter(self, patient):\n",
    "        yield self.env.timeout(random.randint(1, 3))    "
   ]
  },
  {
   "cell_type": "code",
   "execution_count": 19,
   "metadata": {},
   "outputs": [],
   "source": [
    "# When a patient arrives at the Trauma Center, they’ll request a resource(registrars,trauma_nurses and icuporters are all shared resources, wait for its process to complete, and then get admitted into ICU based on their Trauma level. create a function, called go_to_traumacenter(), to keep track of this:"
   ]
  },
  {
   "cell_type": "code",
   "execution_count": 20,
   "metadata": {},
   "outputs": [],
   "source": [
    "def go_to_traumacenter(env, patient, traumacenter):\n",
    "    # patient arrives at the traumacenter\n",
    "    arrival_time = env.now\n",
    "\n",
    "    with traumacenter.registrar.request() as request:\n",
    "        yield request\n",
    "        yield env.process(traumacenter.get_registered(patient))\n",
    "\n",
    "    with traumacenter.traumanurse.request() as request:\n",
    "        yield request\n",
    "        yield env.process(traumacenter.check_traumanurse(patient))\n",
    "\n",
    "    with traumacenter.icuporter.request() as request:\n",
    "        yield request\n",
    "        yield env.process(traumacenter.get_icuporter(patient))\n",
    "\n",
    "    # patient heads into the ICU Facility\n",
    "    wait_times.append(env.now - arrival_time)"
   ]
  },
  {
   "cell_type": "code",
   "execution_count": 21,
   "metadata": {},
   "outputs": [],
   "source": [
    "# Define a function to run the simulation. run_traumacenter will be responsible for creating an instance of a traumacenter and generating patients until the simulation stops. The first thing this function should do is create an instance of a traumacenter:\n",
    "# use range() to populate the traumacenter with 3 patients. Then, you use env.process() to tell the simulation to prepare to move them through the ICU Facility.\n",
    "# looking at past data, you learn that patients  tend to arrive at the ICU Facility, on average, every 55 seconds\n",
    "# The below 0.91 we got by dividing  55 seconds by 60 seconds\n"
   ]
  },
  {
   "cell_type": "code",
   "execution_count": 22,
   "metadata": {},
   "outputs": [],
   "source": [
    "def run_traumacenter(env, num_registrars, num_traumanurses, num_icuporters):\n",
    "    traumacenter = TraumaCenter(env, num_registrars, num_traumanurses, num_icuporters)\n",
    "\n",
    "    for patient in range(5):\n",
    "        env.process(go_to_traumacenter(env, patient, traumacenter))\n",
    "\n",
    "    while True:\n",
    "        yield env.timeout(0.91)  # Wait a bit before generating a new patient\n",
    "\n",
    "        patient += 1\n",
    "        env.process(go_to_traumacenter(env, patient, traumacenter))\n"
   ]
  },
  {
   "cell_type": "code",
   "execution_count": 23,
   "metadata": {},
   "outputs": [],
   "source": [
    "#Calculate average wait times in hours, mins and seconds"
   ]
  },
  {
   "cell_type": "code",
   "execution_count": 24,
   "metadata": {},
   "outputs": [],
   "source": [
    "def get_average_wait_time(wait_times):\n",
    "    average_wait = statistics.mean(wait_times)\n",
    "    # print the results\n",
    "    \n",
    "    minutes, frac_minutes = divmod(average_wait, 1)\n",
    "    seconds = frac_minutes * 60\n",
    "    hours = frac_minutes / 60\n",
    "    return round(hours), round(minutes), round(seconds)\n"
   ]
  },
  {
   "cell_type": "code",
   "execution_count": 25,
   "metadata": {},
   "outputs": [],
   "source": [
    "#Get user input for number of registrars, number of trauma nurses, number of icuporters to run the simulation"
   ]
  },
  {
   "cell_type": "code",
   "execution_count": 26,
   "metadata": {},
   "outputs": [],
   "source": [
    "def get_user_input():\n",
    "    num_registrars = input(\"Input # of registrars working: \")\n",
    "    num_traumanurses = input(\"Input # of traumanurses working: \")\n",
    "    num_icuporters = input(\"Input # of icuporters working: \")\n",
    "    params = [num_registrars, num_traumanurses, num_icuporters]\n",
    "    if all(str(i).isdigit() for i in params):  # Check input is valid\n",
    "        params = [int(x) for x in params]\n",
    "    else:\n",
    "        print(\n",
    "            \"Could not parse input. Simulation will use default values:\",\n",
    "            \"\\n1 registrar, 1 traumanurse, 1 icuporter.\",\n",
    "        )\n",
    "        params = [1, 1, 1]\n",
    "    return params\n"
   ]
  },
  {
   "cell_type": "code",
   "execution_count": 27,
   "metadata": {},
   "outputs": [],
   "source": [
    "# main program calling to run the si8mulation for user input and plot the results.\n",
    "# on x-axis number of registrars, number of trauma nurses and number of icu porters, on y-axis wait time in hours,mins and secs."
   ]
  },
  {
   "cell_type": "code",
   "execution_count": 28,
   "metadata": {},
   "outputs": [
    {
     "name": "stdout",
     "output_type": "stream",
     "text": [
      "Input # of registrars working: 3\n",
      "Input # of traumanurses working: 3\n",
      "Input # of icuporters working: 3\n",
      "Running simulation... \n",
      "The average wait time is 0 hours, 7 minutes and 38 seconds.\n"
     ]
    },
    {
     "data": {
      "image/png": "[encoded data removed]",
      "text/plain": [
       "<Figure size 432x288 with 1 Axes>"
      ]
     },
     "metadata": {
      "needs_background": "light"
     },
     "output_type": "display_data"
    }
   ],
   "source": [
    "def main():\n",
    "    # Setup\n",
    "    random.seed(42)\n",
    "    num_registrars, num_traumanurses, num_icuporters = get_user_input()\n",
    "\n",
    "    # Run the simulation for 90 minutes\n",
    "    env = simpy.Environment()\n",
    "    env.process(run_traumacenter(env, num_registrars, num_traumanurses, num_icuporters))\n",
    "    env.run(until=90) \n",
    "\n",
    "    # View the results\n",
    "    hours, mins, secs = get_average_wait_time(wait_times)\n",
    "    # x axis values(trauma staff)\n",
    "    x = [num_registrars, num_traumanurses, num_icuporters]\n",
    "    # corresponding y axis values(wait times)\n",
    "    y = [hours, mins, secs]\n",
    "    plt.xlabel('registrars,nurses,icuporters')\n",
    "    plt.ylabel('Wait time')\n",
    "    print(\n",
    "        \"Running simulation...\",\n",
    "        f\"\\nThe average wait time is {hours} hours, {mins} minutes and {secs} seconds.\",\n",
    "    )\n",
    "    \n",
    "    # Plot the results\n",
    "    plt.plot(x, y)\n",
    "    plt.show\n",
    "if __name__ == \"__main__\":\n",
    "    main()\n"
   ]
  },
  {
   "cell_type": "markdown",
   "metadata": {},
   "source": [
    "#  Validation of the Model"
   ]
  },
  {
   "cell_type": "markdown",
   "metadata": {},
   "source": [
    "I validated the Model and plotted the results by giving different input values for num_registrars, num_traumanurses, num_icuporters\n",
    "Everytime I noticed that greater the number of resources(num_registrars, num_traumanurses, num_icuporters) less is the wait time. So to reduce the wait time in Trauma centers more numer of shared resources(the staff we need).\n",
    "I again validated model by increasing and decreasing the random time take n by icu porters and trauma level validation nurses, More time taken by them results in more wait time.\n",
    "\n",
    "Example1: \n",
    "Below the average wait time at trauma nurse is 1 to 7 minutes and icuporter is 1 to 6 minutes\n",
    "def get_registered(self, patient):\n",
    "        yield self.env.timeout(random.randint(1, 3))\n",
    "\n",
    "    def check_traumanurse(self, patient):\n",
    "        yield self.env.timeout(random.randint(1, 7))\n",
    "\n",
    "    def get_icuporter(self, patient):\n",
    "        yield self.env.timeout(random.randint(1, 6))    \n",
    "\n",
    "Input # of registrars working: 10\n",
    "Input # of traumanurses working: 10\n",
    "Input # of icuporters working: 10\n",
    "Running simulation... \n",
    "The average wait time is 0 hours, 9 minutes and 15 seconds.\n",
    "\n",
    "Example 2 : \n",
    "Below the average wait time at trauma nurse is 1 to 4 minutes and icuporter is 1 to 3 minutes\n",
    "def get_registered(self, patient):\n",
    "        yield self.env.timeout(random.randint(1, 3))\n",
    "\n",
    "    def check_traumanurse(self, patient):\n",
    "        yield self.env.timeout(random.randint(1, 4))\n",
    "\n",
    "    def get_icuporter(self, patient):\n",
    "        yield self.env.timeout(random.randint(1, 3))  \n",
    "        \n",
    "Input # of registrars working: 10\n",
    "Input # of traumanurses working: 10\n",
    "Input # of icuporters working: 10\n",
    "Running simulation... \n",
    "The average wait time is 0 hours, 6 minutes and 22 seconds.     "
   ]
  },
  {
   "cell_type": "markdown",
   "metadata": {},
   "source": [
    "# Conclusion"
   ]
  },
  {
   "cell_type": "markdown",
   "metadata": {},
   "source": [
    "I am concluding from this simulation that especially at Trauma centers we need more people to Register, look at the patient Trauma intensity level and then people to transfer them to ICU Facility.\n",
    "As I mentioned in FlowChart 1st priority is given to Level 3 Trauma patients(Cardiac,brainstroke,severe brain injury patients), 2nd priority to Level2(Burned patients, Kidney Failure, Accident Patients) and third priority to Level3(other Trauma Patients) all are queued in.\n",
    "So more number of shared resources less wait times for Trauma Emergency patients."
   ]
  },
  {
   "cell_type": "code",
   "execution_count": null,
   "metadata": {},
   "outputs": [],
   "source": []
  }
 ],
 "metadata": {
  "kernelspec": {
   "display_name": "Python 3",
   "language": "python",
   "name": "python3"
  },
  "language_info": {
   "codemirror_mode": {
    "name": "ipython",
    "version": 3
   },
   "file_extension": ".py",
   "mimetype": "text/x-python",
   "name": "python",
   "nbconvert_exporter": "python",
   "pygments_lexer": "ipython3",
   "version": "3.7.0"
  }
 },
 "nbformat": 4,
 "nbformat_minor": 2
}
